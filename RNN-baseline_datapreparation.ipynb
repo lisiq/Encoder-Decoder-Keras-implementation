{
 "cells": [
  {
   "cell_type": "code",
   "execution_count": 1,
   "metadata": {},
   "outputs": [],
   "source": [
    "import pandas as pd\n",
    "import numpy as np\n",
    "import tensorflow.keras as tf"
   ]
  },
  {
   "cell_type": "code",
   "execution_count": 2,
   "metadata": {},
   "outputs": [],
   "source": [
    "# this file has a lot of sparse rows so we open it in this way\n",
    "with open('/home/lisi/impact-prediction/data/paperHistories-1975-2005-2015-2.tsv', 'r') as f:\n",
    "    lines = [row.split() for row in f.read().split(\"\\n\") if row]\n",
    "# we find the longest list in lines\n",
    "def find_max_list_idx(list):\n",
    "    list_len = [len(i) for i in list]\n",
    "    return np.argmax(np.array(list_len)) # retuns the index of the biggest list\n",
    "# we need to make each list the same length so we pad with zeros the other entries\n",
    "biggest_len = len(lines[find_max_list_idx(lines)])\n",
    "paperHistories = {}\n",
    "for i in range(len(lines)):\n",
    "    paperHistories[i] = {'padding': lines[i] + ['0'] * (biggest_len - len(lines[i])), # add the zeroes at the end\n",
    "                         'original': ['1'] * len(lines[i]) + ['0'] * (biggest_len - len(lines[i]))  # 1's for original values, 0's for the padded ones\n",
    "                         }"
   ]
  },
  {
   "cell_type": "code",
   "execution_count": 3,
   "metadata": {},
   "outputs": [],
   "source": [
    "df = pd.DataFrame(paperHistories).transpose()"
   ]
  },
  {
   "cell_type": "code",
   "execution_count": 4,
   "metadata": {},
   "outputs": [],
   "source": [
    "more_than_14yeas = df.original.apply(lambda x: True if sum(list(map(int, x)))>=15 else False)"
   ]
  },
  {
   "cell_type": "code",
   "execution_count": 5,
   "metadata": {},
   "outputs": [],
   "source": [
    "paperFeatures = pd.read_csv('/home/lisi/impact-prediction/data/paperFeatures-1975-2005-2015-2.tsv', sep='\\t')\n",
    "paperIds = pd.read_csv('/home/lisi/impact-prediction/data/paperIds-1975-2005-2015-2.tsv', sep='\\t', names=['paperIds'])"
   ]
  },
  {
   "cell_type": "code",
   "execution_count": 6,
   "metadata": {},
   "outputs": [],
   "source": [
    "df = df.join(paperIds)"
   ]
  },
  {
   "cell_type": "code",
   "execution_count": 7,
   "metadata": {},
   "outputs": [],
   "source": [
    "# edgelist = pd.read_csv('/home/lisi/Desktop/Laci/impact_data/edgelist.csv')"
   ]
  },
  {
   "cell_type": "code",
   "execution_count": 8,
   "metadata": {},
   "outputs": [],
   "source": [
    "# edgelist = edgelist.drop('target',axis=1).drop_duplicates().reset_index(drop=True)"
   ]
  },
  {
   "cell_type": "code",
   "execution_count": 9,
   "metadata": {},
   "outputs": [],
   "source": [
    "# df = pd.merge(df, edgelist, left_on=['paperIds'], right_on=['source'], how='left').drop(['source'],axis=1)"
   ]
  },
  {
   "cell_type": "code",
   "execution_count": 10,
   "metadata": {},
   "outputs": [],
   "source": [
    "# we read the citation graph and make a csv file\n",
    "with open('/home/lisi/impact-prediction/data/paperIdToPaperData-1975-2015.json', 'r',encoding='utf-8') as j:\n",
    "        d = j.read().replace('false', '0').replace('true', '1').splitlines()"
   ]
  },
  {
   "cell_type": "code",
   "execution_count": 11,
   "metadata": {},
   "outputs": [],
   "source": [
    "# string to dictionary\n",
    "good = []\n",
    "bad = [] # there are some authors that have special characters that utf-8 or utf-16 cant solve\n",
    "for i in d:\n",
    "    try:\n",
    "        good.append(eval(i))\n",
    "    except:\n",
    "        bad.append(i)"
   ]
  },
  {
   "cell_type": "code",
   "execution_count": 12,
   "metadata": {},
   "outputs": [],
   "source": [
    "# manually added the bad rows\n",
    "add_bad = {'id':['ca9ba78b3e268ec9b58ffa69524e6f35c0314fcc', \n",
    "                 '30af66277400354f88d0a5de0feaab9fb5278705', \n",
    "                '61afe58c68b91d20a65bb4166cfceb501745c134', \n",
    "                '6d46189d2040a01ccdb4236b0095361294b1a8bf'],\n",
    "          'year':[2007, 2007, 2006, 2004],\n",
    "          'venue':['','','','']}"
   ]
  },
  {
   "cell_type": "code",
   "execution_count": 13,
   "metadata": {},
   "outputs": [],
   "source": [
    "metadata = pd.DataFrame.from_dict(good, orient='columns') # list to dataframe\n",
    "metadata = metadata.drop(['citations-in-year', 'authors', 'is-survey'],axis=1)\n",
    "metadata = metadata.append(pd.DataFrame(add_bad), ignore_index=True) # add the bad rows"
   ]
  },
  {
   "cell_type": "code",
   "execution_count": 14,
   "metadata": {},
   "outputs": [],
   "source": [
    "df = pd.merge(df, metadata, left_on=['paperIds'], right_on=['id'], how='left').drop(['id'],axis=1)"
   ]
  },
  {
   "cell_type": "code",
   "execution_count": 15,
   "metadata": {},
   "outputs": [],
   "source": [
    "df= df.iloc[more_than_14yeas.to_list(),:].reset_index(drop=True)"
   ]
  },
  {
   "cell_type": "code",
   "execution_count": 16,
   "metadata": {},
   "outputs": [],
   "source": [
    "df['venue'].replace('', np.nan, inplace=True)\n",
    "df.dropna(subset=['venue'], inplace=True)"
   ]
  },
  {
   "cell_type": "code",
   "execution_count": 17,
   "metadata": {},
   "outputs": [],
   "source": [
    "df.padding = df.padding.apply(lambda x: list(map(int, x))[:15])"
   ]
  },
  {
   "cell_type": "code",
   "execution_count": 18,
   "metadata": {},
   "outputs": [],
   "source": [
    "df.drop(['original'], axis=1, inplace=True)"
   ]
  },
  {
   "cell_type": "code",
   "execution_count": 19,
   "metadata": {},
   "outputs": [],
   "source": [
    "years = df['padding'].apply(pd.Series)\n",
    "years.columns = ['c{}'.format(i+1) for i in range(years.shape[1])]"
   ]
  },
  {
   "cell_type": "code",
   "execution_count": 20,
   "metadata": {},
   "outputs": [],
   "source": [
    "df = df.join(years)"
   ]
  },
  {
   "cell_type": "code",
   "execution_count": 21,
   "metadata": {},
   "outputs": [],
   "source": [
    "df.drop(['padding', 'paperIds'], axis=1, inplace=True)"
   ]
  },
  {
   "cell_type": "code",
   "execution_count": 22,
   "metadata": {},
   "outputs": [],
   "source": [
    "df.to_csv('rnn_processed_data.csv', index=False)"
   ]
  }
 ],
 "metadata": {
  "kernelspec": {
   "display_name": "Python 3",
   "language": "python",
   "name": "python3"
  },
  "language_info": {
   "codemirror_mode": {
    "name": "ipython",
    "version": 3
   },
   "file_extension": ".py",
   "mimetype": "text/x-python",
   "name": "python",
   "nbconvert_exporter": "python",
   "pygments_lexer": "ipython3",
   "version": "3.8.5"
  }
 },
 "nbformat": 4,
 "nbformat_minor": 4
}
